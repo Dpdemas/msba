{
 "cells": [
  {
   "cell_type": "raw",
   "metadata": {},
   "source": [
    "--- \n",
    "self-contained: true \n",
    "title: \"Practice_Activity_Multiple_Linear_Regression_and_Evaluation\" \n",
    "author : \"Dom Demas\" \n",
    "date : \"11/3/2023\" \n",
    "date-format: long \n",
    "format : \n",
    "    html: \n",
    "        mainfront: sans-serif; \n",
    "---"
   ]
  },
  {
   "cell_type": "markdown",
   "metadata": {
    "id": "FdLoheP-mrxn"
   },
   "source": [
    "# Palmer Penguins Modeling\n",
    "\n",
    "Import the Palmer Penguins dataset and print out the first few rows.\n",
    "\n",
    "Suppose we want to predict `bill_depth_mm` using the other variables in the dataset.\n",
    "\n",
    "**Dummify** all variables that require this."
   ]
  },
  {
   "cell_type": "code",
   "execution_count": 4,
   "metadata": {
    "colab": {
     "base_uri": "https://localhost:8080/"
    },
    "id": "N5lG475yllju",
    "outputId": "12b35c94-5c30-430e-eeaa-cc3eb6569067"
   },
   "outputs": [
    {
     "name": "stdout",
     "output_type": "stream",
     "text": [
      "Collecting plotnine\n",
      "  Obtaining dependency information for plotnine from https://files.pythonhosted.org/packages/eb/c1/fcc5985eee6511aa321e68c8f813d9fdbe1b506713a95d4f612a5f963270/plotnine-0.12.3-py3-none-any.whl.metadata\n",
      "  Downloading plotnine-0.12.3-py3-none-any.whl.metadata (8.9 kB)\n",
      "Requirement already satisfied: matplotlib>=3.6.0 in c:\\users\\domon\\anaconda3\\lib\\site-packages (from plotnine) (3.7.1)\n",
      "Collecting mizani<0.10.0,>0.9.0 (from plotnine)\n",
      "  Obtaining dependency information for mizani<0.10.0,>0.9.0 from https://files.pythonhosted.org/packages/e2/95/d4e33d3f5bc9fee5512637661208b6b595bda58e9b6a66fa867137761dd7/mizani-0.9.3-py3-none-any.whl.metadata\n",
      "  Downloading mizani-0.9.3-py3-none-any.whl.metadata (4.6 kB)\n",
      "Requirement already satisfied: numpy>=1.23.0 in c:\\users\\domon\\anaconda3\\lib\\site-packages (from plotnine) (1.24.3)\n",
      "Requirement already satisfied: pandas>=1.5.0 in c:\\users\\domon\\anaconda3\\lib\\site-packages (from plotnine) (1.5.3)\n",
      "Requirement already satisfied: patsy>=0.5.1 in c:\\users\\domon\\anaconda3\\lib\\site-packages (from plotnine) (0.5.3)\n",
      "Requirement already satisfied: scipy>=1.5.0 in c:\\users\\domon\\anaconda3\\lib\\site-packages (from plotnine) (1.10.1)\n",
      "Requirement already satisfied: statsmodels>=0.14.0 in c:\\users\\domon\\anaconda3\\lib\\site-packages (from plotnine) (0.14.0)\n",
      "Requirement already satisfied: contourpy>=1.0.1 in c:\\users\\domon\\anaconda3\\lib\\site-packages (from matplotlib>=3.6.0->plotnine) (1.0.5)\n",
      "Requirement already satisfied: cycler>=0.10 in c:\\users\\domon\\anaconda3\\lib\\site-packages (from matplotlib>=3.6.0->plotnine) (0.11.0)\n",
      "Requirement already satisfied: fonttools>=4.22.0 in c:\\users\\domon\\anaconda3\\lib\\site-packages (from matplotlib>=3.6.0->plotnine) (4.25.0)\n",
      "Requirement already satisfied: kiwisolver>=1.0.1 in c:\\users\\domon\\anaconda3\\lib\\site-packages (from matplotlib>=3.6.0->plotnine) (1.4.4)\n",
      "Requirement already satisfied: packaging>=20.0 in c:\\users\\domon\\anaconda3\\lib\\site-packages (from matplotlib>=3.6.0->plotnine) (23.0)\n",
      "Requirement already satisfied: pillow>=6.2.0 in c:\\users\\domon\\anaconda3\\lib\\site-packages (from matplotlib>=3.6.0->plotnine) (9.4.0)\n",
      "Requirement already satisfied: pyparsing>=2.3.1 in c:\\users\\domon\\anaconda3\\lib\\site-packages (from matplotlib>=3.6.0->plotnine) (3.0.9)\n",
      "Requirement already satisfied: python-dateutil>=2.7 in c:\\users\\domon\\anaconda3\\lib\\site-packages (from matplotlib>=3.6.0->plotnine) (2.8.2)\n",
      "Collecting tzdata (from mizani<0.10.0,>0.9.0->plotnine)\n",
      "  Downloading tzdata-2023.3-py2.py3-none-any.whl (341 kB)\n",
      "     ---------------------------------------- 0.0/341.8 kB ? eta -:--:--\n",
      "     --------------- ---------------------- 143.4/341.8 kB 4.2 MB/s eta 0:00:01\n",
      "     -------------------------------------- 341.8/341.8 kB 4.3 MB/s eta 0:00:00\n",
      "Requirement already satisfied: pytz>=2020.1 in c:\\users\\domon\\anaconda3\\lib\\site-packages (from pandas>=1.5.0->plotnine) (2022.7)\n",
      "Requirement already satisfied: six in c:\\users\\domon\\anaconda3\\lib\\site-packages (from patsy>=0.5.1->plotnine) (1.16.0)\n",
      "Downloading plotnine-0.12.3-py3-none-any.whl (1.3 MB)\n",
      "   ---------------------------------------- 0.0/1.3 MB ? eta -:--:--\n",
      "   ------- -------------------------------- 0.2/1.3 MB 15.7 MB/s eta 0:00:01\n",
      "   ---------- ----------------------------- 0.3/1.3 MB 4.1 MB/s eta 0:00:01\n",
      "   --------------- ------------------------ 0.5/1.3 MB 4.5 MB/s eta 0:00:01\n",
      "   ------------------------------------- -- 1.2/1.3 MB 6.3 MB/s eta 0:00:01\n",
      "   ---------------------------------------- 1.3/1.3 MB 5.8 MB/s eta 0:00:00\n",
      "Downloading mizani-0.9.3-py3-none-any.whl (73 kB)\n",
      "   ---------------------------------------- 0.0/73.7 kB ? eta -:--:--\n",
      "   ---------------------------------------- 73.7/73.7 kB 4.0 MB/s eta 0:00:00\n",
      "Installing collected packages: tzdata, mizani, plotnine\n",
      "Successfully installed mizani-0.9.3 plotnine-0.12.3 tzdata-2023.3\n",
      "  species     island  bill_length_mm  bill_depth_mm  flipper_length_mm  \\\n",
      "0  Adelie  Torgersen            39.1           18.7              181.0   \n",
      "1  Adelie  Torgersen            39.5           17.4              186.0   \n",
      "2  Adelie  Torgersen            40.3           18.0              195.0   \n",
      "4  Adelie  Torgersen            36.7           19.3              193.0   \n",
      "5  Adelie  Torgersen            39.3           20.6              190.0   \n",
      "\n",
      "   body_mass_g     sex  \n",
      "0       3750.0    Male  \n",
      "1       3800.0  Female  \n",
      "2       3250.0  Female  \n",
      "4       3450.0  Female  \n",
      "5       3650.0    Male  \n"
     ]
    }
   ],
   "source": [
    "!pip install plotnine\n",
    "import seaborn as sns\n",
    "import pandas as pd\n",
    "import numpy as np\n",
    "from sklearn import preprocessing\n",
    "from sklearn.preprocessing import LabelEncoder\n",
    "from sklearn.model_selection import train_test_split\n",
    "import matplotlib.pyplot as plt\n",
    "from sklearn.linear_model import LinearRegression\n",
    "from sklearn.preprocessing import PolynomialFeatures\n",
    "from sklearn.metrics import mean_squared_error\n",
    "\n",
    "penguin = sns.load_dataset(\"penguins\")\n",
    "penguin = penguin.dropna()\n",
    "print(penguin.head())"
   ]
  },
  {
   "cell_type": "code",
   "execution_count": null,
   "metadata": {
    "id": "MJ4NRD_uqNjI"
   },
   "outputs": [],
   "source": [
    "penguin = pd.get_dummies(penguin, columns=['species', 'island', 'sex'], drop_first=True)"
   ]
  },
  {
   "cell_type": "markdown",
   "metadata": {
    "id": "TT1MVgaKm_gX"
   },
   "source": [
    "Let's use the other variables to predict `bill_depth_mm`. Prepare your data and fit the following models on a training dataset subset of the entire dataset:\n",
    "\n",
    "* Four different models, each containing a different set of predictor variables\n",
    "\n",
    "Create a plot like the right plot of Fig 1. in our `Model Validation` chapter with the training and test error plotted for each of your four models.\n",
    "\n",
    "Which of your models was best?"
   ]
  },
  {
   "cell_type": "code",
   "execution_count": null,
   "metadata": {
    "id": "1-g5kN4pq3Jd"
   },
   "outputs": [],
   "source": [
    "y = penguin['bill_depth_mm']\n",
    "\n",
    "X1 = penguin[['bill_length_mm']]\n",
    "X2 = penguin[['bill_length_mm', 'flipper_length_mm', 'body_mass_g']]\n",
    "X3 = penguin[['bill_length_mm', 'flipper_length_mm', 'body_mass_g', 'species_Chinstrap', 'species_Gentoo']]\n",
    "X4 = penguin.drop(columns=['bill_depth_mm'])"
   ]
  },
  {
   "cell_type": "code",
   "execution_count": null,
   "metadata": {
    "id": "cpZBtttvq6Q7"
   },
   "outputs": [],
   "source": [
    "#train data\n",
    "train_data, test_data = train_test_split(penguin, test_size=0.25)\n",
    "y_train, y_test = train_data['bill_depth_mm'], test_data['bill_depth_mm']"
   ]
  },
  {
   "cell_type": "code",
   "execution_count": null,
   "metadata": {
    "id": "DN0FAvvprOTh"
   },
   "outputs": [],
   "source": [
    "X1_train, X2_train, X3_train, X4_train = train_data[['bill_length_mm']], train_data[['bill_length_mm', 'flipper_length_mm', 'body_mass_g']], train_data[['bill_length_mm', 'flipper_length_mm', 'body_mass_g', 'species_Chinstrap', 'species_Gentoo']], train_data.drop(columns=['bill_depth_mm'])\n",
    "X1_test, X2_test, X3_test, X4_test = test_data[['bill_length_mm']], test_data[['bill_length_mm', 'flipper_length_mm', 'body_mass_g']], test_data[['bill_length_mm', 'flipper_length_mm', 'body_mass_g', 'species_Chinstrap', 'species_Gentoo']], test_data.drop(columns=['bill_depth_mm'])\n"
   ]
  },
  {
   "cell_type": "code",
   "execution_count": null,
   "metadata": {
    "id": "d7CZ43K3rWmE"
   },
   "outputs": [],
   "source": [
    "#training models\n",
    "models = [LinearRegression() for _ in range(4)]\n",
    "X_train_list = [X1_train, X2_train, X3_train, X4_train]\n",
    "X_test_list = [X1_test, X2_test, X3_test, X4_test]\n",
    "train_errors, test_errors = [], []\n",
    "\n",
    "for i, model in enumerate(models):\n",
    "    model.fit(X_train_list[i], y_train)\n",
    "    train_errors.append(mean_squared_error(y_train, model.predict(X_train_list[i])))\n",
    "    test_errors.append(mean_squared_error(y_test, model.predict(X_test_list[i])))"
   ]
  },
  {
   "cell_type": "code",
   "execution_count": null,
   "metadata": {
    "id": "bayjXEWbmJG3"
   },
   "outputs": [],
   "source": [
    "error_data = pd.DataFrame({\n",
    "    'Model': ['Model 1', 'Model 2', 'Model 3', 'Model 4'] * 2,\n",
    "    'Error Type': ['Training Error'] * 4 + ['Test Error'] * 4,\n",
    "    'Error': train_errors + test_errors\n",
    "})\n"
   ]
  },
  {
   "cell_type": "code",
   "execution_count": null,
   "metadata": {
    "colab": {
     "base_uri": "https://localhost:8080/",
     "height": 514
    },
    "id": "wdQPTk5yqzJd",
    "outputId": "67d042e6-3c1a-4cb6-f907-f872d1a9aec5"
   },
   "outputs": [],
   "source": [
    "from plotnine import ggplot, aes, geom_point, geom_line, labs, theme_light\n",
    "\n",
    "plot = (ggplot(error_data, aes(x='Model', y='Error', color='Error Type', group='Error Type')) +\n",
    "        geom_point(size=3) +\n",
    "        geom_line(size=1.5) +\n",
    "        labs(title='Training and Test Error', y='Mean Squared Error') +\n",
    "        theme_light()\n",
    "       )\n",
    "\n",
    "print(plot)"
   ]
  },
  {
   "cell_type": "markdown",
   "metadata": {
    "id": "_Du2wPtdsO4E"
   },
   "source": [
    "model 3 and 4 had almost even test errors but it appears that model fours test error is just slightly lower making ut the best model."
   ]
  }
 ],
 "metadata": {
  "colab": {
   "provenance": []
  },
  "kernelspec": {
   "display_name": "Python 3 (ipykernel)",
   "language": "python",
   "name": "python3"
  },
  "language_info": {
   "codemirror_mode": {
    "name": "ipython",
    "version": 3
   },
   "file_extension": ".py",
   "mimetype": "text/x-python",
   "name": "python",
   "nbconvert_exporter": "python",
   "pygments_lexer": "ipython3",
   "version": "3.11.4"
  }
 },
 "nbformat": 4,
 "nbformat_minor": 1
}
