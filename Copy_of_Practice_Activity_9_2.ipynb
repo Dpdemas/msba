{
 "cells": [
  {
   "cell_type": "raw",
   "metadata": {},
   "source": [
    "--- \n",
    "self-contained: true \n",
    "title: \"PA 9.2\" \n",
    "author : \"Dom Demas\" \n",
    "date : \"12/01/2023\" \n",
    "date-format: long \n",
    "format : \n",
    "    html: \n",
    "        mainfront: sans-serif; \n",
    "---"
   ]
  },
  {
   "cell_type": "markdown",
   "metadata": {
    "id": "P_N9XP2-04VH"
   },
   "source": [
    "\n",
    "Our dataset consists of clinical data from patients who entered the hospital complaining of chest pain (\"angina\") during exercise.  The information collected includes:\n",
    "\n",
    "* `age` : Age of the patient\n",
    "\n",
    "* `sex` : Sex of the patient\n",
    "\n",
    "* `cp` : Chest Pain type\n",
    "\n",
    "    + Value 0: asymptomatic\n",
    "    + Value 1: typical angina\n",
    "    + Value 2: atypical angina\n",
    "    + Value 3: non-anginal pain\n",
    "   \n",
    "    \n",
    "* `trtbps` : resting blood pressure (in mm Hg)\n",
    "\n",
    "* `chol` : cholesterol in mg/dl fetched via BMI sensor\n",
    "\n",
    "* `restecg` : resting electrocardiographic results\n",
    "\n",
    "    + Value 0: normal\n",
    "    + Value 1: having ST-T wave abnormality (T wave inversions and/or ST elevation or depression of > 0.05 mV)\n",
    "    + Value 2: showing probable or definite left ventricular hypertrophy by Estes' criteria\n",
    "\n",
    "* `thalach` : maximum heart rate achieved during exercise\n",
    "\n",
    "* `output` : the doctor's diagnosis of whether the patient is at risk for a heart attack\n",
    "    + 0 = not at risk of heart attack\n",
    "    + 1 = at risk of heart attack"
   ]
  },
  {
   "cell_type": "code",
   "execution_count": null,
   "metadata": {
    "id": "tZmjmGGQ1CaN"
   },
   "outputs": [],
   "source": [
    "import pandas as pd\n",
    "from sklearn.model_selection import train_test_split\n",
    "from sklearn.neighbors import KNeighborsClassifier\n",
    "from sklearn.metrics import accuracy_score\n",
    "from sklearn.tree import DecisionTreeClassifier\n",
    "from sklearn.tree import plot_tree\n",
    "import matplotlib.pyplot as plt\n",
    "from sklearn.discriminant_analysis import LinearDiscriminantAnalysis\n",
    "from sklearn.linear_model import LogisticRegression\n",
    "from sklearn.metrics import f1_score\n",
    "from sklearn.metrics import roc_auc_score\n"
   ]
  },
  {
   "cell_type": "code",
   "execution_count": null,
   "metadata": {
    "colab": {
     "base_uri": "https://localhost:8080/",
     "height": 206
    },
    "id": "ghXbwhv600-S",
    "outputId": "38eab09b-bb68-4483-8e53-61651f704731"
   },
   "outputs": [
    {
     "data": {
      "text/html": [
       "\n",
       "  <div id=\"df-876d3b17-ea86-4982-b26b-d98c2b5ee84d\" class=\"colab-df-container\">\n",
       "    <div>\n",
       "<style scoped>\n",
       "    .dataframe tbody tr th:only-of-type {\n",
       "        vertical-align: middle;\n",
       "    }\n",
       "\n",
       "    .dataframe tbody tr th {\n",
       "        vertical-align: top;\n",
       "    }\n",
       "\n",
       "    .dataframe thead th {\n",
       "        text-align: right;\n",
       "    }\n",
       "</style>\n",
       "<table border=\"1\" class=\"dataframe\">\n",
       "  <thead>\n",
       "    <tr style=\"text-align: right;\">\n",
       "      <th></th>\n",
       "      <th>age</th>\n",
       "      <th>sex</th>\n",
       "      <th>cp</th>\n",
       "      <th>trtbps</th>\n",
       "      <th>chol</th>\n",
       "      <th>restecg</th>\n",
       "      <th>thalach</th>\n",
       "      <th>output</th>\n",
       "    </tr>\n",
       "  </thead>\n",
       "  <tbody>\n",
       "    <tr>\n",
       "      <th>0</th>\n",
       "      <td>63</td>\n",
       "      <td>1</td>\n",
       "      <td>3</td>\n",
       "      <td>145</td>\n",
       "      <td>233</td>\n",
       "      <td>0</td>\n",
       "      <td>150</td>\n",
       "      <td>1</td>\n",
       "    </tr>\n",
       "    <tr>\n",
       "      <th>1</th>\n",
       "      <td>37</td>\n",
       "      <td>1</td>\n",
       "      <td>2</td>\n",
       "      <td>130</td>\n",
       "      <td>250</td>\n",
       "      <td>1</td>\n",
       "      <td>187</td>\n",
       "      <td>1</td>\n",
       "    </tr>\n",
       "    <tr>\n",
       "      <th>2</th>\n",
       "      <td>56</td>\n",
       "      <td>1</td>\n",
       "      <td>1</td>\n",
       "      <td>120</td>\n",
       "      <td>236</td>\n",
       "      <td>1</td>\n",
       "      <td>178</td>\n",
       "      <td>1</td>\n",
       "    </tr>\n",
       "    <tr>\n",
       "      <th>3</th>\n",
       "      <td>57</td>\n",
       "      <td>0</td>\n",
       "      <td>0</td>\n",
       "      <td>120</td>\n",
       "      <td>354</td>\n",
       "      <td>1</td>\n",
       "      <td>163</td>\n",
       "      <td>1</td>\n",
       "    </tr>\n",
       "    <tr>\n",
       "      <th>4</th>\n",
       "      <td>57</td>\n",
       "      <td>1</td>\n",
       "      <td>0</td>\n",
       "      <td>140</td>\n",
       "      <td>192</td>\n",
       "      <td>1</td>\n",
       "      <td>148</td>\n",
       "      <td>1</td>\n",
       "    </tr>\n",
       "  </tbody>\n",
       "</table>\n",
       "</div>\n",
       "    <div class=\"colab-df-buttons\">\n",
       "\n",
       "  <div class=\"colab-df-container\">\n",
       "    <button class=\"colab-df-convert\" onclick=\"convertToInteractive('df-876d3b17-ea86-4982-b26b-d98c2b5ee84d')\"\n",
       "            title=\"Convert this dataframe to an interactive table.\"\n",
       "            style=\"display:none;\">\n",
       "\n",
       "  <svg xmlns=\"http://www.w3.org/2000/svg\" height=\"24px\" viewBox=\"0 -960 960 960\">\n",
       "    <path d=\"M120-120v-720h720v720H120Zm60-500h600v-160H180v160Zm220 220h160v-160H400v160Zm0 220h160v-160H400v160ZM180-400h160v-160H180v160Zm440 0h160v-160H620v160ZM180-180h160v-160H180v160Zm440 0h160v-160H620v160Z\"/>\n",
       "  </svg>\n",
       "    </button>\n",
       "\n",
       "  <style>\n",
       "    .colab-df-container {\n",
       "      display:flex;\n",
       "      gap: 12px;\n",
       "    }\n",
       "\n",
       "    .colab-df-convert {\n",
       "      background-color: #E8F0FE;\n",
       "      border: none;\n",
       "      border-radius: 50%;\n",
       "      cursor: pointer;\n",
       "      display: none;\n",
       "      fill: #1967D2;\n",
       "      height: 32px;\n",
       "      padding: 0 0 0 0;\n",
       "      width: 32px;\n",
       "    }\n",
       "\n",
       "    .colab-df-convert:hover {\n",
       "      background-color: #E2EBFA;\n",
       "      box-shadow: 0px 1px 2px rgba(60, 64, 67, 0.3), 0px 1px 3px 1px rgba(60, 64, 67, 0.15);\n",
       "      fill: #174EA6;\n",
       "    }\n",
       "\n",
       "    .colab-df-buttons div {\n",
       "      margin-bottom: 4px;\n",
       "    }\n",
       "\n",
       "    [theme=dark] .colab-df-convert {\n",
       "      background-color: #3B4455;\n",
       "      fill: #D2E3FC;\n",
       "    }\n",
       "\n",
       "    [theme=dark] .colab-df-convert:hover {\n",
       "      background-color: #434B5C;\n",
       "      box-shadow: 0px 1px 3px 1px rgba(0, 0, 0, 0.15);\n",
       "      filter: drop-shadow(0px 1px 2px rgba(0, 0, 0, 0.3));\n",
       "      fill: #FFFFFF;\n",
       "    }\n",
       "  </style>\n",
       "\n",
       "    <script>\n",
       "      const buttonEl =\n",
       "        document.querySelector('#df-876d3b17-ea86-4982-b26b-d98c2b5ee84d button.colab-df-convert');\n",
       "      buttonEl.style.display =\n",
       "        google.colab.kernel.accessAllowed ? 'block' : 'none';\n",
       "\n",
       "      async function convertToInteractive(key) {\n",
       "        const element = document.querySelector('#df-876d3b17-ea86-4982-b26b-d98c2b5ee84d');\n",
       "        const dataTable =\n",
       "          await google.colab.kernel.invokeFunction('convertToInteractive',\n",
       "                                                    [key], {});\n",
       "        if (!dataTable) return;\n",
       "\n",
       "        const docLinkHtml = 'Like what you see? Visit the ' +\n",
       "          '<a target=\"_blank\" href=https://colab.research.google.com/notebooks/data_table.ipynb>data table notebook</a>'\n",
       "          + ' to learn more about interactive tables.';\n",
       "        element.innerHTML = '';\n",
       "        dataTable['output_type'] = 'display_data';\n",
       "        await google.colab.output.renderOutput(dataTable, element);\n",
       "        const docLink = document.createElement('div');\n",
       "        docLink.innerHTML = docLinkHtml;\n",
       "        element.appendChild(docLink);\n",
       "      }\n",
       "    </script>\n",
       "  </div>\n",
       "\n",
       "\n",
       "<div id=\"df-1ea28546-177e-4e32-a672-a1f7da2c4d06\">\n",
       "  <button class=\"colab-df-quickchart\" onclick=\"quickchart('df-1ea28546-177e-4e32-a672-a1f7da2c4d06')\"\n",
       "            title=\"Suggest charts\"\n",
       "            style=\"display:none;\">\n",
       "\n",
       "<svg xmlns=\"http://www.w3.org/2000/svg\" height=\"24px\"viewBox=\"0 0 24 24\"\n",
       "     width=\"24px\">\n",
       "    <g>\n",
       "        <path d=\"M19 3H5c-1.1 0-2 .9-2 2v14c0 1.1.9 2 2 2h14c1.1 0 2-.9 2-2V5c0-1.1-.9-2-2-2zM9 17H7v-7h2v7zm4 0h-2V7h2v10zm4 0h-2v-4h2v4z\"/>\n",
       "    </g>\n",
       "</svg>\n",
       "  </button>\n",
       "\n",
       "<style>\n",
       "  .colab-df-quickchart {\n",
       "      --bg-color: #E8F0FE;\n",
       "      --fill-color: #1967D2;\n",
       "      --hover-bg-color: #E2EBFA;\n",
       "      --hover-fill-color: #174EA6;\n",
       "      --disabled-fill-color: #AAA;\n",
       "      --disabled-bg-color: #DDD;\n",
       "  }\n",
       "\n",
       "  [theme=dark] .colab-df-quickchart {\n",
       "      --bg-color: #3B4455;\n",
       "      --fill-color: #D2E3FC;\n",
       "      --hover-bg-color: #434B5C;\n",
       "      --hover-fill-color: #FFFFFF;\n",
       "      --disabled-bg-color: #3B4455;\n",
       "      --disabled-fill-color: #666;\n",
       "  }\n",
       "\n",
       "  .colab-df-quickchart {\n",
       "    background-color: var(--bg-color);\n",
       "    border: none;\n",
       "    border-radius: 50%;\n",
       "    cursor: pointer;\n",
       "    display: none;\n",
       "    fill: var(--fill-color);\n",
       "    height: 32px;\n",
       "    padding: 0;\n",
       "    width: 32px;\n",
       "  }\n",
       "\n",
       "  .colab-df-quickchart:hover {\n",
       "    background-color: var(--hover-bg-color);\n",
       "    box-shadow: 0 1px 2px rgba(60, 64, 67, 0.3), 0 1px 3px 1px rgba(60, 64, 67, 0.15);\n",
       "    fill: var(--button-hover-fill-color);\n",
       "  }\n",
       "\n",
       "  .colab-df-quickchart-complete:disabled,\n",
       "  .colab-df-quickchart-complete:disabled:hover {\n",
       "    background-color: var(--disabled-bg-color);\n",
       "    fill: var(--disabled-fill-color);\n",
       "    box-shadow: none;\n",
       "  }\n",
       "\n",
       "  .colab-df-spinner {\n",
       "    border: 2px solid var(--fill-color);\n",
       "    border-color: transparent;\n",
       "    border-bottom-color: var(--fill-color);\n",
       "    animation:\n",
       "      spin 1s steps(1) infinite;\n",
       "  }\n",
       "\n",
       "  @keyframes spin {\n",
       "    0% {\n",
       "      border-color: transparent;\n",
       "      border-bottom-color: var(--fill-color);\n",
       "      border-left-color: var(--fill-color);\n",
       "    }\n",
       "    20% {\n",
       "      border-color: transparent;\n",
       "      border-left-color: var(--fill-color);\n",
       "      border-top-color: var(--fill-color);\n",
       "    }\n",
       "    30% {\n",
       "      border-color: transparent;\n",
       "      border-left-color: var(--fill-color);\n",
       "      border-top-color: var(--fill-color);\n",
       "      border-right-color: var(--fill-color);\n",
       "    }\n",
       "    40% {\n",
       "      border-color: transparent;\n",
       "      border-right-color: var(--fill-color);\n",
       "      border-top-color: var(--fill-color);\n",
       "    }\n",
       "    60% {\n",
       "      border-color: transparent;\n",
       "      border-right-color: var(--fill-color);\n",
       "    }\n",
       "    80% {\n",
       "      border-color: transparent;\n",
       "      border-right-color: var(--fill-color);\n",
       "      border-bottom-color: var(--fill-color);\n",
       "    }\n",
       "    90% {\n",
       "      border-color: transparent;\n",
       "      border-bottom-color: var(--fill-color);\n",
       "    }\n",
       "  }\n",
       "</style>\n",
       "\n",
       "  <script>\n",
       "    async function quickchart(key) {\n",
       "      const quickchartButtonEl =\n",
       "        document.querySelector('#' + key + ' button');\n",
       "      quickchartButtonEl.disabled = true;  // To prevent multiple clicks.\n",
       "      quickchartButtonEl.classList.add('colab-df-spinner');\n",
       "      try {\n",
       "        const charts = await google.colab.kernel.invokeFunction(\n",
       "            'suggestCharts', [key], {});\n",
       "      } catch (error) {\n",
       "        console.error('Error during call to suggestCharts:', error);\n",
       "      }\n",
       "      quickchartButtonEl.classList.remove('colab-df-spinner');\n",
       "      quickchartButtonEl.classList.add('colab-df-quickchart-complete');\n",
       "    }\n",
       "    (() => {\n",
       "      let quickchartButtonEl =\n",
       "        document.querySelector('#df-1ea28546-177e-4e32-a672-a1f7da2c4d06 button');\n",
       "      quickchartButtonEl.style.display =\n",
       "        google.colab.kernel.accessAllowed ? 'block' : 'none';\n",
       "    })();\n",
       "  </script>\n",
       "</div>\n",
       "    </div>\n",
       "  </div>\n"
      ],
      "text/plain": [
       "   age  sex  cp  trtbps  chol  restecg  thalach  output\n",
       "0   63    1   3     145   233        0      150       1\n",
       "1   37    1   2     130   250        1      187       1\n",
       "2   56    1   1     120   236        1      178       1\n",
       "3   57    0   0     120   354        1      163       1\n",
       "4   57    1   0     140   192        1      148       1"
      ]
     },
     "execution_count": 65,
     "metadata": {},
     "output_type": "execute_result"
    }
   ],
   "source": [
    "ha = pd.read_csv(\"https://www.dropbox.com/s/aohbr6yb9ifmc8w/heart_attack.csv?dl=1\")\n",
    "ha.head()"
   ]
  },
  {
   "cell_type": "markdown",
   "metadata": {
    "id": "OCX180v41bhe"
   },
   "source": [
    "## Q1: Natural Multiclass Models\n",
    "\n",
    "Fit a multiclass KNN, Decision Tree, and LDA for the heart disease data; this time predicting the type of chest pain (categories 0 - 3) that a patient experiences.  For the decision tree, plot the fitted tree, and interpret the first couple splits.\n"
   ]
  },
  {
   "cell_type": "markdown",
   "metadata": {
    "id": "X0SoHzmsRxRE"
   },
   "source": [
    "KNN\n"
   ]
  },
  {
   "cell_type": "code",
   "execution_count": null,
   "metadata": {
    "id": "WJsMBCZh1glq"
   },
   "outputs": [],
   "source": [
    "X = ha.drop('cp', axis=1)\n",
    "y = ha['cp']\n",
    "\n",
    "X_train, X_test, y_train, y_test = train_test_split(X, y, test_size=0.2, random_state=42)"
   ]
  },
  {
   "cell_type": "code",
   "execution_count": null,
   "metadata": {
    "colab": {
     "base_uri": "https://localhost:8080/"
    },
    "id": "wSSYhWj0R4ew",
    "outputId": "a6cbedaf-ec07-4754-f546-8507807df75f"
   },
   "outputs": [
    {
     "name": "stdout",
     "output_type": "stream",
     "text": [
      "KNN Accuracy: 0.42\n"
     ]
    }
   ],
   "source": [
    "knn = KNeighborsClassifier(n_neighbors=5)  # You can adjust the number of neighbors\n",
    "knn.fit(X_train, y_train)\n",
    "y_pred_knn = knn.predict(X_test)\n",
    "\n",
    "accuracy_knn = accuracy_score(y_test, y_pred_knn)\n",
    "print(f\"KNN Accuracy: {round(accuracy_knn, 2)}\")\n"
   ]
  },
  {
   "cell_type": "markdown",
   "metadata": {
    "id": "JcYhcwgvSEm0"
   },
   "source": [
    "Decision Tree"
   ]
  },
  {
   "cell_type": "code",
   "execution_count": null,
   "metadata": {
    "colab": {
     "base_uri": "https://localhost:8080/"
    },
    "id": "-gT_ggTFSFwl",
    "outputId": "65a5437f-e10b-4c20-bec2-bf71a3237fd4"
   },
   "outputs": [
    {
     "name": "stdout",
     "output_type": "stream",
     "text": [
      "Decision Tree Accuracy: 0.33\n"
     ]
    }
   ],
   "source": [
    "dt = DecisionTreeClassifier(random_state=42)\n",
    "dt.fit(X_train, y_train)\n",
    "y_pred_dt = dt.predict(X_test)\n",
    "\n",
    "accuracy_dt = accuracy_score(y_test, y_pred_dt)\n",
    "print(f\"Decision Tree Accuracy: {round(accuracy_dt,2)}\")\n"
   ]
  },
  {
   "cell_type": "code",
   "execution_count": null,
   "metadata": {
    "colab": {
     "base_uri": "https://localhost:8080/",
     "height": 653
    },
    "id": "uTSGt1NWS5_e",
    "outputId": "09e45fe3-d3d5-4a39-f37f-2704fa79dcce"
   },
   "outputs": [
    {
     "data": {
      "image/png": "[encoded data removed]",
      "text/plain": [
       "<Figure size 1200x800 with 1 Axes>"
      ]
     },
     "metadata": {},
     "output_type": "display_data"
    }
   ],
   "source": [
    "plt.figure(figsize=(12, 8))\n",
    "plot_tree(dt, filled=True, feature_names=X.columns, class_names=['0', '1', '2', '3'], max_depth = 2)\n",
    "plt.show()"
   ]
  },
  {
   "cell_type": "markdown",
   "metadata": {
    "id": "s_RBEET6TESG"
   },
   "source": [
    "The root node in this decision tree is output which is the variable for the doctor's diagnosis. If the doctor diagnoses the patient as bein g at right (1) then it looks to the resting blood pressure (trtbps) variable. If the value of that is less than or equal to 141 then it looks at age otherwise it looks at the cholesterol variable next. If the patient is not diagnosed as being at risk, the decision tree next looks at the maximum heart rate achieved during exercise (thalach) variable. If that values is less than or equal to 144.5 it looks to cholesterol and otherwise age.  "
   ]
  },
  {
   "cell_type": "markdown",
   "metadata": {
    "id": "zWTbWrpISaZe"
   },
   "source": [
    "LDA"
   ]
  },
  {
   "cell_type": "code",
   "execution_count": null,
   "metadata": {
    "colab": {
     "base_uri": "https://localhost:8080/"
    },
    "id": "7vLZfO7aScP1",
    "outputId": "976e25ca-9589-4060-fdfe-26da4ded38cb"
   },
   "outputs": [
    {
     "name": "stdout",
     "output_type": "stream",
     "text": [
      "LDA Accuracy: 0.55\n"
     ]
    }
   ],
   "source": [
    "lda = LinearDiscriminantAnalysis()\n",
    "lda.fit(X_train, y_train)\n",
    "y_pred_lda = lda.predict(X_test)\n",
    "\n",
    "\n",
    "accuracy_lda = accuracy_score(y_test, y_pred_lda)\n",
    "print(f\"LDA Accuracy: {round(accuracy_lda, 2)}\")\n"
   ]
  },
  {
   "cell_type": "markdown",
   "metadata": {
    "id": "gYqpOtbO1EAJ"
   },
   "source": [
    "## Q2:  OvR\n",
    "\n",
    "Create a new column in the `ha` dataset called `cp_is_3`, which is equal to `1` if the `cp` variable is equal to `3` and `0` otherwise.\n",
    "\n",
    "Then, fit a Logistic Regression to predict this new target, and report the **F1 Score**.\n",
    "\n",
    "Repeat for the other three `cp` categories.  Which category was the OvR approach best at distinguishing?"
   ]
  },
  {
   "cell_type": "code",
   "execution_count": null,
   "metadata": {
    "colab": {
     "base_uri": "https://localhost:8080/"
    },
    "id": "90PfjsjW1T2Y",
    "outputId": "30b44a57-ae65-4eb2-97c2-1b392acd5f4d"
   },
   "outputs": [
    {
     "name": "stdout",
     "output_type": "stream",
     "text": [
      "   age  sex  cp  trtbps  chol  restecg  thalach  output  cp_is_3\n",
      "0   63    1   3     145   233        0      150       1        1\n",
      "1   37    1   2     130   250        1      187       1        0\n",
      "2   56    1   1     120   236        1      178       1        0\n",
      "3   57    0   0     120   354        1      163       1        0\n",
      "4   57    1   0     140   192        1      148       1        0\n"
     ]
    }
   ],
   "source": [
    "ha['cp_is_3'] = (ha['cp'] == 3).astype(int)\n",
    "print(ha.head())\n"
   ]
  },
  {
   "cell_type": "code",
   "execution_count": null,
   "metadata": {
    "id": "hiTpPaJZUsnT"
   },
   "outputs": [],
   "source": [
    "#X = ha.drop(['cp', 'cp_is_3'], axis=1)\n",
    "#y = ha['cp_is_3']\n",
    "\n",
    "#X_train, X_test, y_train, y_test = train_test_split(X, y, test_size=0.2, random_state=42)\n",
    "\n",
    "#log_reg = LogisticRegression(solver='liblinear', max_iter=2000, random_state=42)\n",
    "#log_reg.fit(X_train, y_train)\n",
    "#y_pred_log_reg = log_reg.predict(X_test)\n",
    "\n",
    "#f1 = f1_score(y_test, y_pred_log_reg)\n",
    "#print(f\"Logistic Regression F1 Score: {f1}\")\n"
   ]
  },
  {
   "cell_type": "code",
   "execution_count": null,
   "metadata": {
    "colab": {
     "base_uri": "https://localhost:8080/"
    },
    "id": "78SDy-FVWelp",
    "outputId": "f1ac5d3f-ac73-410c-98e4-7967d4286c73"
   },
   "outputs": [
    {
     "name": "stdout",
     "output_type": "stream",
     "text": [
      "F1 Score for category 0: 0.7142857142857142\n",
      "F1 Score for category 1: 0.0\n",
      "F1 Score for category 2: 0.0\n",
      "F1 Score for category 3: 0.0\n",
      "The best OvR category 0.\n"
     ]
    },
    {
     "name": "stderr",
     "output_type": "stream",
     "text": [
      "/usr/local/lib/python3.10/dist-packages/sklearn/linear_model/_sag.py:350: ConvergenceWarning: The max_iter was reached which means the coef_ did not converge\n",
      "  warnings.warn(\n",
      "/usr/local/lib/python3.10/dist-packages/sklearn/linear_model/_sag.py:350: ConvergenceWarning: The max_iter was reached which means the coef_ did not converge\n",
      "  warnings.warn(\n",
      "/usr/local/lib/python3.10/dist-packages/sklearn/linear_model/_sag.py:350: ConvergenceWarning: The max_iter was reached which means the coef_ did not converge\n",
      "  warnings.warn(\n",
      "/usr/local/lib/python3.10/dist-packages/sklearn/linear_model/_sag.py:350: ConvergenceWarning: The max_iter was reached which means the coef_ did not converge\n",
      "  warnings.warn(\n"
     ]
    }
   ],
   "source": [
    "# Creating separate columns for each category using One-vs-Rest approach\n",
    "for i in range(4):\n",
    "    ha[f'cp_is_{i}'] = (ha['cp'] == i).astype(int)\n",
    "\n",
    "f1_scores = []\n",
    "for i in range(4):\n",
    "    X = ha.drop([f'cp', f'cp_is_{i}'], axis=1)\n",
    "    y = ha[f'cp_is_{i}']\n",
    "\n",
    "    X_train, X_test, y_train, y_test = train_test_split(X, y, test_size=0.2, random_state=42)\n",
    "\n",
    "    log_reg = LogisticRegression(solver='saga', max_iter=1000, random_state=42)\n",
    "    log_reg.fit(X_train, y_train)\n",
    "\n",
    "    y_pred = log_reg.predict(X_test)\n",
    "\n",
    "    f1 = f1_score(y_test, y_pred)\n",
    "    f1_scores.append(f1)\n",
    "    print(f\"F1 Score for category {i}: {f1}\")\n",
    "\n",
    "best_category = f1_scores.index(max(f1_scores))\n",
    "print(f\"The best OvR category {best_category}.\")\n"
   ]
  },
  {
   "cell_type": "markdown",
   "metadata": {
    "id": "lXO3jbTU1ULR"
   },
   "source": [
    "## Q3: OvO\n",
    "\n",
    "Reduce your dataset to only the `0` and `1` types of chest pain.\n",
    "\n",
    "Then, fit a Logistic Regression to predict between the two groups, and report the **ROC-AUC**.  \n",
    "\n",
    "Repeat comparing category `0` to `2` and `3`.  Which pair was the OvO approach best at distinguishing?"
   ]
  },
  {
   "cell_type": "code",
   "execution_count": null,
   "metadata": {
    "colab": {
     "base_uri": "https://localhost:8080/"
    },
    "id": "THrjnRoV1siy",
    "outputId": "800c41ed-f0a2-4bda-82d6-6b5ea0a67d59"
   },
   "outputs": [
    {
     "name": "stdout",
     "output_type": "stream",
     "text": [
      "   age  sex  cp  trtbps  chol  restecg  thalach  output  cp_is_3  cp_is_0  \\\n",
      "2   56    1   1     120   236        1      178       1        0        0   \n",
      "3   57    0   0     120   354        1      163       1        0        1   \n",
      "4   57    1   0     140   192        1      148       1        0        1   \n",
      "5   56    0   1     140   294        0      153       1        0        0   \n",
      "6   44    1   1     120   263        1      173       1        0        0   \n",
      "\n",
      "   cp_is_1  cp_is_2  \n",
      "2        1        0  \n",
      "3        0        0  \n",
      "4        0        0  \n",
      "5        1        0  \n",
      "6        1        0  \n"
     ]
    }
   ],
   "source": [
    "reduced_ha = ha[ha['cp'].isin([0, 1])]\n",
    "print(reduced_ha.head())"
   ]
  },
  {
   "cell_type": "code",
   "execution_count": null,
   "metadata": {
    "colab": {
     "base_uri": "https://localhost:8080/"
    },
    "id": "kL1PMybzXk7I",
    "outputId": "56be8e04-e08f-41d1-e295-f8303b8d7d5c"
   },
   "outputs": [
    {
     "name": "stdout",
     "output_type": "stream",
     "text": [
      "ROC-AUC Score: 0.71\n"
     ]
    }
   ],
   "source": [
    "X_reduced = reduced_ha.drop(['cp', 'cp_is_3', 'cp_is_0', 'cp_is_1', 'cp_is_2'], axis=1)\n",
    "y_reduced = reduced_ha['cp']\n",
    "\n",
    "X_train_red, X_test_red, y_train_red, y_test_red = train_test_split(X_reduced, y_reduced, test_size=0.2, random_state=42)\n",
    "\n",
    "log_reg_reduced = LogisticRegression(solver='liblinear', random_state=42)\n",
    "log_reg_reduced.fit(X_train_red, y_train_red)\n",
    "y_pred_proba = log_reg_reduced.predict_proba(X_test_red)[:, 1]\n",
    "\n",
    "roc_auc = roc_auc_score(y_test_red, y_pred_proba)\n",
    "print(f\"ROC-AUC Score: {round(roc_auc, 2)}\")"
   ]
  },
  {
   "cell_type": "code",
   "execution_count": null,
   "metadata": {
    "colab": {
     "base_uri": "https://localhost:8080/"
    },
    "id": "fpxWVVfpYHUi",
    "outputId": "8b52d9b1-8739-4d9d-94ed-f61476f3d341"
   },
   "outputs": [
    {
     "name": "stdout",
     "output_type": "stream",
     "text": [
      "ROC-AUC Score for 0 vs 2: 0.7857142857142857\n",
      "ROC-AUC Score for 0 vs 3: 0.7142857142857142\n"
     ]
    }
   ],
   "source": [
    "category_pairs = [(0, 2), (0, 3)]\n",
    "\n",
    "for pair in category_pairs:\n",
    "    reduced_ha_pair = ha[ha['cp'].isin(pair)]\n",
    "\n",
    "    X_pair = reduced_ha_pair.drop(['cp', 'cp_is_3', 'cp_is_0', 'cp_is_1', 'cp_is_2'], axis=1)\n",
    "    y_pair = reduced_ha_pair['cp']\n",
    "\n",
    "    X_train_pair, X_test_pair, y_train_pair, y_test_pair = train_test_split(X_pair, y_pair, test_size=0.2, random_state=42)\n",
    "\n",
    "    log_reg_pair = LogisticRegression(solver='liblinear', random_state=42)\n",
    "    log_reg_pair.fit(X_train_pair, y_train_pair)\n",
    "\n",
    "    y_pred_proba_pair = log_reg_pair.predict_proba(X_test_pair)[:, 1]  # Predict probabilities for positive class\n",
    "\n",
    "    roc_auc_pair = roc_auc_score(y_test_pair, y_pred_proba_pair)\n",
    "    print(f\"ROC-AUC Score for {pair[0]} vs {pair[1]}: {roc_auc_pair}\")\n"
   ]
  },
  {
   "cell_type": "markdown",
   "metadata": {
    "id": "OuNcMA_RY9OU"
   },
   "source": [
    "The pair the OvO approach best at distinguishing was cp of 0 vs 2 with a ROC-AUC Score of 0.786."
   ]
  }
 ],
 "metadata": {
  "colab": {
   "provenance": []
  },
  "kernelspec": {
   "display_name": "Python 3 (ipykernel)",
   "language": "python",
   "name": "python3"
  },
  "language_info": {
   "codemirror_mode": {
    "name": "ipython",
    "version": 3
   },
   "file_extension": ".py",
   "mimetype": "text/x-python",
   "name": "python",
   "nbconvert_exporter": "python",
   "pygments_lexer": "ipython3",
   "version": "3.11.4"
  }
 },
 "nbformat": 4,
 "nbformat_minor": 1
}
