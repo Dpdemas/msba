{
 "cells": [
  {
   "cell_type": "raw",
   "metadata": {},
   "source": [
    "--- \n",
    "self-contained: true \n",
    "title: \"Practice_Activity_Penguin_Classification\" \n",
    "author : \"Dom Demas\" \n",
    "date : \"11/17/2023\" \n",
    "date-format: long \n",
    "format : \n",
    "    html: \n",
    "        mainfront: sans-serif; \n",
    "---"
   ]
  },
  {
   "cell_type": "markdown",
   "metadata": {
    "id": "TxbDFsJARAMD"
   },
   "source": [
    "# Palmer Penguins Modeling\n",
    "\n",
    "Import the Palmer Penguins dataset and print out the first few rows.\n",
    "\n",
    "Suppose we want to predict `species` using the other variables in the dataset.\n",
    "\n",
    "**Dummify** all variables that require this."
   ]
  },
  {
   "cell_type": "code",
   "execution_count": 40,
   "metadata": {
    "id": "QV2uolyOQ65C"
   },
   "outputs": [],
   "source": [
    "import seaborn as sns\n",
    "import pandas as pd\n",
    "from sklearn.model_selection import train_test_split\n",
    "from sklearn.neighbors import KNeighborsClassifier\n",
    "from sklearn.metrics import accuracy_score\n",
    "from sklearn.impute import SimpleImputer\n",
    "from sklearn.metrics import confusion_matrix, classification_report, roc_curve, auc, roc_auc_score\n",
    "import matplotlib.pyplot as plt\n",
    "from sklearn.preprocessing import LabelBinarizer\n",
    "from sklearn.tree import DecisionTreeClassifier\n",
    "from sklearn.preprocessing import label_binarize"
   ]
  },
  {
   "cell_type": "code",
   "execution_count": 2,
   "metadata": {
    "colab": {
     "base_uri": "https://localhost:8080/"
    },
    "id": "QVOK1-Tr6IE9",
    "outputId": "a0bc9276-b3b3-4539-ae92-4af0aca2c051"
   },
   "outputs": [
    {
     "name": "stdout",
     "output_type": "stream",
     "text": [
      "  species     island  bill_length_mm  bill_depth_mm  flipper_length_mm  \\\n",
      "0  Adelie  Torgersen            39.1           18.7              181.0   \n",
      "1  Adelie  Torgersen            39.5           17.4              186.0   \n",
      "2  Adelie  Torgersen            40.3           18.0              195.0   \n",
      "3  Adelie  Torgersen             NaN            NaN                NaN   \n",
      "4  Adelie  Torgersen            36.7           19.3              193.0   \n",
      "\n",
      "   body_mass_g     sex  \n",
      "0       3750.0    Male  \n",
      "1       3800.0  Female  \n",
      "2       3250.0  Female  \n",
      "3          NaN     NaN  \n",
      "4       3450.0  Female  \n"
     ]
    }
   ],
   "source": [
    "penguins = sns.load_dataset(\"penguins\")\n",
    "print(penguins.head())"
   ]
  },
  {
   "cell_type": "code",
   "execution_count": 3,
   "metadata": {
    "colab": {
     "base_uri": "https://localhost:8080/"
    },
    "id": "iPQrEo196MfX",
    "outputId": "23b4e235-bb0e-4bba-be7b-2386f83ba72e"
   },
   "outputs": [
    {
     "name": "stdout",
     "output_type": "stream",
     "text": [
      "  species  bill_length_mm  bill_depth_mm  flipper_length_mm  body_mass_g  \\\n",
      "0  Adelie            39.1           18.7              181.0       3750.0   \n",
      "1  Adelie            39.5           17.4              186.0       3800.0   \n",
      "2  Adelie            40.3           18.0              195.0       3250.0   \n",
      "3  Adelie             NaN            NaN                NaN          NaN   \n",
      "4  Adelie            36.7           19.3              193.0       3450.0   \n",
      "\n",
      "   island_Dream  island_Torgersen  sex_Male  \n",
      "0             0                 1         1  \n",
      "1             0                 1         0  \n",
      "2             0                 1         0  \n",
      "3             0                 1         0  \n",
      "4             0                 1         0  \n"
     ]
    }
   ],
   "source": [
    "penguins = pd.get_dummies(penguins, columns=['island', 'sex'], drop_first=True)\n",
    "print(penguins.head())"
   ]
  },
  {
   "cell_type": "code",
   "execution_count": 4,
   "metadata": {
    "colab": {
     "base_uri": "https://localhost:8080/"
    },
    "id": "2QUN84jC7KqD",
    "outputId": "b3834e84-6130-4b2c-f5a6-7db713f96d38"
   },
   "outputs": [
    {
     "data": {
      "text/plain": [
       "species              0\n",
       "bill_length_mm       2\n",
       "bill_depth_mm        2\n",
       "flipper_length_mm    2\n",
       "body_mass_g          2\n",
       "island_Dream         0\n",
       "island_Torgersen     0\n",
       "sex_Male             0\n",
       "dtype: int64"
      ]
     },
     "execution_count": 4,
     "metadata": {},
     "output_type": "execute_result"
    }
   ],
   "source": [
    "penguins.isnull().sum()"
   ]
  },
  {
   "cell_type": "code",
   "execution_count": 5,
   "metadata": {
    "colab": {
     "base_uri": "https://localhost:8080/"
    },
    "id": "yZlTFGHr7Nvm",
    "outputId": "9a682271-f085-43cf-c307-d181461b422c"
   },
   "outputs": [
    {
     "data": {
      "text/plain": [
       "species              0\n",
       "bill_length_mm       0\n",
       "bill_depth_mm        0\n",
       "flipper_length_mm    0\n",
       "body_mass_g          0\n",
       "island_Dream         0\n",
       "island_Torgersen     0\n",
       "sex_Male             0\n",
       "dtype: int64"
      ]
     },
     "execution_count": 5,
     "metadata": {},
     "output_type": "execute_result"
    }
   ],
   "source": [
    "penguins = penguins.dropna()\n",
    "penguins.isnull().sum()"
   ]
  },
  {
   "cell_type": "markdown",
   "metadata": {
    "id": "HecNBVAnRHod"
   },
   "source": [
    "Let's use the other variables to predict `species`. Prepare your data and fit the following models on the entire dataset:\n",
    "\n",
    "* Two kNN models (for different values of K)\n",
    "* Two decision tree models (for different complexities of trees)\n",
    "\n",
    "Compute the following, for each of your models, on test data. Keep in mind that you may need to stratify your creation of the training and test data.\n",
    "\n",
    "* Confusion matrix\n",
    "* Overall Accuracy\n",
    "* Precision, Recall, AUC, and F1-score for each species\n",
    "\n",
    "Create one ROC plot for the species of your choice."
   ]
  },
  {
   "cell_type": "markdown",
   "metadata": {
    "id": "UueYk2HZ6oWA"
   },
   "source": [
    "# KNN: kNN models\n"
   ]
  },
  {
   "cell_type": "code",
   "execution_count": 6,
   "metadata": {
    "id": "2ZRNejim655u"
   },
   "outputs": [],
   "source": [
    "X = penguins.drop('species', axis=1)\n",
    "y = penguins['species']\n",
    "\n",
    "X_train, X_test, y_train, y_test = train_test_split(X, y, test_size=0.2, random_state=42)"
   ]
  },
  {
   "cell_type": "markdown",
   "metadata": {
    "id": "PgEVQEsv-cuS"
   },
   "source": [
    "### K = 5"
   ]
  },
  {
   "cell_type": "code",
   "execution_count": 7,
   "metadata": {
    "colab": {
     "base_uri": "https://localhost:8080/"
    },
    "id": "nfnWzRuZ9bk4",
    "outputId": "e6c576c5-d8b0-449a-cbf2-0a64f3920925"
   },
   "outputs": [
    {
     "name": "stdout",
     "output_type": "stream",
     "text": [
      "Confusion Matrix:\n",
      "[[32  1  2]\n",
      " [11  1  0]\n",
      " [ 1  0 21]]\n"
     ]
    }
   ],
   "source": [
    "knn_model_5 = KNeighborsClassifier(n_neighbors=5)\n",
    "\n",
    "knn_model_5.fit(X_train, y_train)\n",
    "\n",
    "y_pred_5 = knn_model_5.predict(X_test)\n",
    "y_prob_5 = knn_model_5.predict_proba(X_test)\n",
    "\n",
    "cm = confusion_matrix(y_test, y_pred_5)\n",
    "print(\"Confusion Matrix:\")\n",
    "print(cm)"
   ]
  },
  {
   "cell_type": "code",
   "execution_count": 8,
   "metadata": {
    "colab": {
     "base_uri": "https://localhost:8080/"
    },
    "id": "tA0OYY_D9yod",
    "outputId": "4f4d0452-3440-401d-e5af-ace8c325f2e4"
   },
   "outputs": [
    {
     "name": "stdout",
     "output_type": "stream",
     "text": [
      "Overall Accuracy: \n",
      "0.78\n"
     ]
    }
   ],
   "source": [
    "accuracy_5 = accuracy_score(y_test, y_pred_5)\n",
    "print(\"Overall Accuracy: \")\n",
    "print(round(accuracy_5, 2))"
   ]
  },
  {
   "cell_type": "code",
   "execution_count": 9,
   "metadata": {
    "colab": {
     "base_uri": "https://localhost:8080/"
    },
    "id": "Kv6nClFr95MP",
    "outputId": "0ccc6e5c-8ffd-46f0-cc33-7667f16ab3ba"
   },
   "outputs": [
    {
     "name": "stdout",
     "output_type": "stream",
     "text": [
      "              precision    recall  f1-score   support\n",
      "\n",
      "      Adelie       0.73      0.91      0.81        35\n",
      "   Chinstrap       0.50      0.08      0.14        12\n",
      "      Gentoo       0.91      0.95      0.93        22\n",
      "\n",
      "    accuracy                           0.78        69\n",
      "   macro avg       0.71      0.65      0.63        69\n",
      "weighted avg       0.75      0.78      0.73        69\n",
      "\n"
     ]
    }
   ],
   "source": [
    "report_5 = classification_report(y_test, y_pred_5)\n",
    "print(report_5)"
   ]
  },
  {
   "cell_type": "code",
   "execution_count": 10,
   "metadata": {
    "colab": {
     "base_uri": "https://localhost:8080/"
    },
    "id": "Xcr5i4dOBGmP",
    "outputId": "45c7ace2-1501-42fe-d1ce-4009524daa80"
   },
   "outputs": [
    {
     "name": "stdout",
     "output_type": "stream",
     "text": [
      "Adelie AUC: 0.83\n",
      "Chinstrap AUC: 0.77\n",
      "Gentoo AUC: 0.99\n"
     ]
    }
   ],
   "source": [
    "auc_scores_by_species_5 = {}\n",
    "for i in range(y_prob_5.shape[1]):\n",
    "    species = knn_model_5.classes_[i]\n",
    "    auc_score_5 = roc_auc_score(y_test == species, y_prob_5[:, i])\n",
    "    auc_scores_by_species_5[species] = auc_score_5\n",
    "    print(f\"{species} AUC: {auc_score_5:.2f}\")"
   ]
  },
  {
   "cell_type": "markdown",
   "metadata": {
    "id": "TQADnsly-nkN"
   },
   "source": [
    "### K = 25"
   ]
  },
  {
   "cell_type": "code",
   "execution_count": 11,
   "metadata": {
    "colab": {
     "base_uri": "https://localhost:8080/"
    },
    "id": "02eyUfgS-oy1",
    "outputId": "d574f163-6c87-420b-d673-f35d719900cb"
   },
   "outputs": [
    {
     "name": "stdout",
     "output_type": "stream",
     "text": [
      "Confusion Matrix:\n",
      "[[32  0  3]\n",
      " [11  1  0]\n",
      " [ 3  0 19]]\n"
     ]
    }
   ],
   "source": [
    "knn_model_25 = KNeighborsClassifier(n_neighbors=25)\n",
    "\n",
    "knn_model_25.fit(X_train, y_train)\n",
    "\n",
    "y_pred_25 = knn_model_25.predict(X_test)\n",
    "y_prob_25 = knn_model_25.predict_proba(X_test)"
   ]
  },
  {
   "cell_type": "code",
   "execution_count": null,
   "metadata": {
    "id": "XlFxcL_TOdwM"
   },
   "outputs": [],
   "source": [
    "cm = confusion_matrix(y_test, y_pred_25)\n",
    "print(\"Confusion Matrix:\")\n",
    "print(cm)"
   ]
  },
  {
   "cell_type": "code",
   "execution_count": 12,
   "metadata": {
    "colab": {
     "base_uri": "https://localhost:8080/"
    },
    "id": "QhnvhLbe_Erp",
    "outputId": "fabd5a33-52d7-47aa-e122-82d5393c6190"
   },
   "outputs": [
    {
     "name": "stdout",
     "output_type": "stream",
     "text": [
      "Overall Accuracy: \n",
      "0.75\n"
     ]
    }
   ],
   "source": [
    "accuracy_25 = accuracy_score(y_test, y_pred_25)\n",
    "print(\"Overall Accuracy: \")\n",
    "print(round(accuracy_25, 2))"
   ]
  },
  {
   "cell_type": "code",
   "execution_count": 13,
   "metadata": {
    "colab": {
     "base_uri": "https://localhost:8080/"
    },
    "id": "au9zcvAA_S9l",
    "outputId": "3f4a30b5-9781-4afb-f1f2-eed3980501ad"
   },
   "outputs": [
    {
     "name": "stdout",
     "output_type": "stream",
     "text": [
      "              precision    recall  f1-score   support\n",
      "\n",
      "      Adelie       0.70      0.91      0.79        35\n",
      "   Chinstrap       1.00      0.08      0.15        12\n",
      "      Gentoo       0.86      0.86      0.86        22\n",
      "\n",
      "    accuracy                           0.75        69\n",
      "   macro avg       0.85      0.62      0.60        69\n",
      "weighted avg       0.80      0.75      0.70        69\n",
      "\n"
     ]
    }
   ],
   "source": [
    "report_25 = classification_report(y_test, y_pred_25)\n",
    "print(report_25)"
   ]
  },
  {
   "cell_type": "code",
   "execution_count": 14,
   "metadata": {
    "colab": {
     "base_uri": "https://localhost:8080/"
    },
    "id": "8y5K5y-j_YMF",
    "outputId": "10cb0d05-0842-4ad5-b817-adec854b8418"
   },
   "outputs": [
    {
     "name": "stdout",
     "output_type": "stream",
     "text": [
      "Adelie AUC: 0.82\n",
      "Chinstrap AUC: 0.79\n",
      "Gentoo AUC: 0.98\n"
     ]
    }
   ],
   "source": [
    "auc_scores_by_species_25 = {}\n",
    "for i in range(y_prob_25.shape[1]):\n",
    "    species = knn_model_25.classes_[i]\n",
    "    auc_score_25 = roc_auc_score(y_test == species, y_prob_25[:, i])\n",
    "    auc_scores_by_species_25[species] = auc_score_25\n",
    "    print(f\"{species} AUC: {auc_score_25:.2f}\")"
   ]
  },
  {
   "cell_type": "markdown",
   "metadata": {
    "id": "ROgitBRxKzkO"
   },
   "source": [
    "# Decision Trees"
   ]
  },
  {
   "cell_type": "markdown",
   "metadata": {
    "id": "kWez4VlvNQuL"
   },
   "source": [
    "### Max Depth = 1\n"
   ]
  },
  {
   "cell_type": "code",
   "execution_count": 31,
   "metadata": {
    "id": "yQt0l_ASK-ua"
   },
   "outputs": [],
   "source": [
    "tree_1 = DecisionTreeClassifier(max_depth=1, random_state=42)\n",
    "tree_1.fit(X, y)\n",
    "y_pred_1 = tree_1.predict(X_test)"
   ]
  },
  {
   "cell_type": "code",
   "execution_count": 32,
   "metadata": {
    "colab": {
     "base_uri": "https://localhost:8080/"
    },
    "id": "vUuX8VwdNsnR",
    "outputId": "07c31830-d815-4587-f837-2f3c352d68a5"
   },
   "outputs": [
    {
     "name": "stdout",
     "output_type": "stream",
     "text": [
      "Confusion Matrix:\n",
      "[[35  0  0]\n",
      " [12  0  0]\n",
      " [ 0  0 22]]\n"
     ]
    }
   ],
   "source": [
    "cm_1 = confusion_matrix(y_test, y_pred_1)\n",
    "print(\"Confusion Matrix:\")\n",
    "print(cm_1)"
   ]
  },
  {
   "cell_type": "code",
   "execution_count": 35,
   "metadata": {
    "colab": {
     "base_uri": "https://localhost:8080/"
    },
    "id": "uZTPaZ--O0J2",
    "outputId": "471df824-6f05-4291-f338-4fff9f465814"
   },
   "outputs": [
    {
     "name": "stdout",
     "output_type": "stream",
     "text": [
      "Overall Accuracy: \n",
      "0.83\n"
     ]
    }
   ],
   "source": [
    "accuracy_tree_1 = accuracy_score(y_test, y_pred_1)\n",
    "print(\"Overall Accuracy: \")\n",
    "print(round(accuracy_tree_1, 2))"
   ]
  },
  {
   "cell_type": "code",
   "execution_count": 33,
   "metadata": {
    "colab": {
     "base_uri": "https://localhost:8080/"
    },
    "id": "QDdQmDiINsbq",
    "outputId": "57258330-a243-4b8b-d3b3-8ddba7ff115d"
   },
   "outputs": [
    {
     "name": "stdout",
     "output_type": "stream",
     "text": [
      "Classification Report:\n",
      "              precision    recall  f1-score   support\n",
      "\n",
      "      Adelie       0.74      1.00      0.85        35\n",
      "   Chinstrap       0.00      0.00      0.00        12\n",
      "      Gentoo       1.00      1.00      1.00        22\n",
      "\n",
      "    accuracy                           0.83        69\n",
      "   macro avg       0.58      0.67      0.62        69\n",
      "weighted avg       0.70      0.83      0.75        69\n",
      "\n"
     ]
    },
    {
     "name": "stderr",
     "output_type": "stream",
     "text": [
      "/usr/local/lib/python3.10/dist-packages/sklearn/metrics/_classification.py:1344: UndefinedMetricWarning: Precision and F-score are ill-defined and being set to 0.0 in labels with no predicted samples. Use `zero_division` parameter to control this behavior.\n",
      "  _warn_prf(average, modifier, msg_start, len(result))\n",
      "/usr/local/lib/python3.10/dist-packages/sklearn/metrics/_classification.py:1344: UndefinedMetricWarning: Precision and F-score are ill-defined and being set to 0.0 in labels with no predicted samples. Use `zero_division` parameter to control this behavior.\n",
      "  _warn_prf(average, modifier, msg_start, len(result))\n",
      "/usr/local/lib/python3.10/dist-packages/sklearn/metrics/_classification.py:1344: UndefinedMetricWarning: Precision and F-score are ill-defined and being set to 0.0 in labels with no predicted samples. Use `zero_division` parameter to control this behavior.\n",
      "  _warn_prf(average, modifier, msg_start, len(result))\n"
     ]
    }
   ],
   "source": [
    "report_1 = classification_report(y_test, y_pred_1)\n",
    "print(\"Classification Report:\")\n",
    "print(report_1)"
   ]
  },
  {
   "cell_type": "code",
   "execution_count": 34,
   "metadata": {
    "colab": {
     "base_uri": "https://localhost:8080/"
    },
    "id": "MXlJ-sQ3NsTJ",
    "outputId": "1162180c-bad2-4d4f-da17-cddf138b820c"
   },
   "outputs": [
    {
     "name": "stdout",
     "output_type": "stream",
     "text": [
      "Adelie AUC: 0.82\n",
      "Chinstrap AUC: 0.69\n",
      "Gentoo AUC: 1.00\n"
     ]
    }
   ],
   "source": [
    "y_prob_1 = tree_1.predict_proba(X_test)\n",
    "auc_scores_by_species_1 = {}\n",
    "for i in range(y_prob_1.shape[1]):\n",
    "    species = tree_1.classes_[i]\n",
    "    auc_score_1 = roc_auc_score(y_test == species, y_prob_1[:, i])\n",
    "    auc_scores_by_species_1[species] = auc_score_1\n",
    "    print(f\"{species} AUC: {auc_score_1:.2f}\")"
   ]
  },
  {
   "cell_type": "markdown",
   "metadata": {
    "id": "C4nZ5FxFK5Pb"
   },
   "source": [
    "### Max Depth = 3"
   ]
  },
  {
   "cell_type": "code",
   "execution_count": 15,
   "metadata": {
    "id": "hdvMKv8ZKgms"
   },
   "outputs": [],
   "source": [
    "tree_3 = DecisionTreeClassifier(max_depth=3, random_state=42)\n",
    "tree_3.fit(X, y)\n",
    "y_pred_3 = tree_3.predict(X_test)"
   ]
  },
  {
   "cell_type": "code",
   "execution_count": 20,
   "metadata": {
    "colab": {
     "base_uri": "https://localhost:8080/"
    },
    "id": "SQP42A2MMWyB",
    "outputId": "bab4cf12-e34b-4090-c0dc-7e3223a6482b"
   },
   "outputs": [
    {
     "name": "stdout",
     "output_type": "stream",
     "text": [
      "Confusion Matrix:\n",
      "[[34  1  0]\n",
      " [ 2 10  0]\n",
      " [ 0  0 22]]\n"
     ]
    }
   ],
   "source": [
    "cm_3 = confusion_matrix(y_test, y_pred_3)\n",
    "print(\"Confusion Matrix:\")\n",
    "print(cm_3)"
   ]
  },
  {
   "cell_type": "code",
   "execution_count": 16,
   "metadata": {
    "colab": {
     "base_uri": "https://localhost:8080/"
    },
    "id": "_SDEmsrpLOQR",
    "outputId": "db26fd82-8667-473c-c4c6-ab79d434e97b"
   },
   "outputs": [
    {
     "name": "stdout",
     "output_type": "stream",
     "text": [
      "Accuracy: \n",
      "0.96\n"
     ]
    }
   ],
   "source": [
    "accuracy_tree_3 = accuracy_score(y_test, y_pred_3)\n",
    "print(\"Overall Accuracy: \")\n",
    "print(round(accuracy_tree_3, 2))"
   ]
  },
  {
   "cell_type": "code",
   "execution_count": 21,
   "metadata": {
    "colab": {
     "base_uri": "https://localhost:8080/"
    },
    "id": "kGaWSG2tMv33",
    "outputId": "f3156635-ddca-410d-dbc5-55e953f7a88f"
   },
   "outputs": [
    {
     "name": "stdout",
     "output_type": "stream",
     "text": [
      "Classification Report:\n",
      "              precision    recall  f1-score   support\n",
      "\n",
      "      Adelie       0.94      0.97      0.96        35\n",
      "   Chinstrap       0.91      0.83      0.87        12\n",
      "      Gentoo       1.00      1.00      1.00        22\n",
      "\n",
      "    accuracy                           0.96        69\n",
      "   macro avg       0.95      0.93      0.94        69\n",
      "weighted avg       0.96      0.96      0.96        69\n",
      "\n"
     ]
    }
   ],
   "source": [
    "report_3 = classification_report(y_test, y_pred_3)\n",
    "print(\"Classification Report:\")\n",
    "print(report_3)"
   ]
  },
  {
   "cell_type": "code",
   "execution_count": 22,
   "metadata": {
    "colab": {
     "base_uri": "https://localhost:8080/"
    },
    "id": "-Wcfd7-0M03i",
    "outputId": "2be507a7-6c68-47fa-c9cd-7fec352e96ee"
   },
   "outputs": [
    {
     "name": "stdout",
     "output_type": "stream",
     "text": [
      "Adelie AUC: 0.99\n",
      "Chinstrap AUC: 0.99\n",
      "Gentoo AUC: 1.00\n"
     ]
    }
   ],
   "source": [
    "y_prob_3 = tree_3.predict_proba(X_test)\n",
    "auc_scores_by_species_3 = {}\n",
    "for i in range(y_prob_3.shape[1]):\n",
    "    species = tree_3.classes_[i]\n",
    "    auc_score_3 = roc_auc_score(y_test == species, y_prob_3[:, i])\n",
    "    auc_scores_by_species_3[species] = auc_score_3\n",
    "    print(f\"{species} AUC: {auc_score_3:.2f}\")"
   ]
  },
  {
   "cell_type": "markdown",
   "metadata": {
    "id": "-cwmONfbOki7"
   },
   "source": [
    "# ROC\n",
    "\n"
   ]
  },
  {
   "cell_type": "code",
   "execution_count": 45,
   "metadata": {
    "colab": {
     "base_uri": "https://localhost:8080/",
     "height": 564
    },
    "id": "N4QzeRNRO9dy",
    "outputId": "a79c9f54-2a7c-41e7-9968-966aadc944e8"
   },
   "outputs": [
    {
     "data": {
      "image/png": "[encoded data removed]",
      "text/plain": [
       "<Figure size 800x600 with 1 Axes>"
      ]
     },
     "metadata": {},
     "output_type": "display_data"
    }
   ],
   "source": [
    "# Binarize the target variable for Adelie class\n",
    "y_test_bin_adelie = label_binarize(y_test, classes=['Adelie', 'Chinstrap', 'Gentoo'])[:, 0]\n",
    "\n",
    "y_prob_1 = tree_1.predict_proba(X_test)[:, 0]\n",
    "y_prob_3 = tree_3.predict_proba(X_test)[:, 0]\n",
    "\n",
    "fpr_1, tpr_1, _ = roc_curve(y_test_bin_adelie, y_prob_1)\n",
    "roc_auc_1 = auc(fpr_1, tpr_1)\n",
    "\n",
    "fpr_3, tpr_3, _ = roc_curve(y_test_bin_adelie, y_prob_3)\n",
    "roc_auc_3 = auc(fpr_3, tpr_3)\n",
    "\n",
    "\n",
    "plt.figure(figsize=(8, 6))\n",
    "plt.plot(fpr_1, tpr_1, color='green', lw=2, label=f'Decision Tree 1 (AUC = {roc_auc_1:.2f})')\n",
    "plt.plot(fpr_3, tpr_3, color='darkorange', lw=2, label=f'Decision Tree 3 (AUC = {roc_auc_3:.2f})')\n",
    "plt.plot([0, 1], [0, 1], color='navy', lw=2, linestyle='--')\n",
    "plt.xlabel('False Positive Rate')\n",
    "plt.ylabel('True Positive Rate')\n",
    "plt.title('ROC Curve for Adelie Species')\n",
    "plt.legend(loc='lower right')\n",
    "plt.show()"
   ]
  }
 ],
 "metadata": {
  "colab": {
   "provenance": []
  },
  "kernelspec": {
   "display_name": "Python 3 (ipykernel)",
   "language": "python",
   "name": "python3"
  },
  "language_info": {
   "codemirror_mode": {
    "name": "ipython",
    "version": 3
   },
   "file_extension": ".py",
   "mimetype": "text/x-python",
   "name": "python",
   "nbconvert_exporter": "python",
   "pygments_lexer": "ipython3",
   "version": "3.11.4"
  }
 },
 "nbformat": 4,
 "nbformat_minor": 1
}
